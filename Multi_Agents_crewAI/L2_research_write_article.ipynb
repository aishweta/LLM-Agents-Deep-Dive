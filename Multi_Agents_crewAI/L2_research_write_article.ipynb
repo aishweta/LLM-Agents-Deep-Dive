{
 "cells": [
  {
   "cell_type": "markdown",
   "metadata": {},
   "source": [
    "You can download the `requirements.txt` for this course from the workspace of this lab. `File --> Open...`"
   ]
  },
  {
   "cell_type": "markdown",
   "metadata": {},
   "source": [
    "# L2: Create Agents to Research and Write an Article\n",
    "\n",
    "In this lesson, you will be introduced to the foundational concepts of multi-agent systems and get an overview of the crewAI framework."
   ]
  },
  {
   "cell_type": "markdown",
   "metadata": {},
   "source": [
    "The libraries are already installed in the classroom. If you're running this notebook on your own machine, you can install the following:\n",
    "```Python\n",
    "!pip install crewai==0.28.8 crewai_tools==0.1.6 langchain_community==0.0.29\n",
    "```"
   ]
  },
  {
   "cell_type": "code",
   "execution_count": 1,
   "metadata": {
    "height": 64
   },
   "outputs": [],
   "source": [
    "# Warning control\n",
    "import warnings\n",
    "warnings.filterwarnings('ignore')"
   ]
  },
  {
   "cell_type": "markdown",
   "metadata": {},
   "source": [
    "- Import from the crewAI libray."
   ]
  },
  {
   "cell_type": "code",
   "execution_count": 2,
   "metadata": {
    "height": 30
   },
   "outputs": [],
   "source": [
    "from crewai import Agent, Task, Crew"
   ]
  },
  {
   "cell_type": "markdown",
   "metadata": {},
   "source": [
    "- As a LLM for your agents, you'll be using OpenAI's `gpt-3.5-turbo`.\n",
    "\n",
    "**Optional Note:** crewAI also allow other popular models to be used as a LLM for your Agents. You can see some of the examples at the [bottom of the notebook](#1)."
   ]
  },
  {
   "cell_type": "code",
   "execution_count": 3,
   "metadata": {
    "height": 98
   },
   "outputs": [],
   "source": [
    "import os\n",
    "from utils import get_openai_api_key\n",
    "\n",
    "openai_api_key = get_openai_api_key()\n",
    "os.environ[\"OPENAI_MODEL_NAME\"] = 'gpt-3.5-turbo'"
   ]
  },
  {
   "cell_type": "markdown",
   "metadata": {},
   "source": [
    "## Creating Agents\n",
    "\n",
    "- Define your Agents, and provide them a `role`, `goal` and `backstory`.\n",
    "- It has been seen that LLMs perform better when they are role playing."
   ]
  },
  {
   "cell_type": "markdown",
   "metadata": {},
   "source": [
    "### Agent: Planner\n",
    "\n",
    "**Note**: The benefit of using _multiple strings_ :\n",
    "```Python\n",
    "varname = \"line 1 of text\"\n",
    "          \"line 2 of text\"\n",
    "```\n",
    "\n",
    "versus the _triple quote docstring_:\n",
    "```Python\n",
    "varname = \"\"\"line 1 of text\n",
    "             line 2 of text\n",
    "          \"\"\"\n",
    "```\n",
    "is that it can avoid adding those whitespaces and newline characters, making it better formatted to be passed to the LLM."
   ]
  },
  {
   "cell_type": "code",
   "execution_count": 4,
   "metadata": {
    "height": 234
   },
   "outputs": [],
   "source": [
    "planner = Agent(\n",
    "    role=\"Content Planner\",\n",
    "    goal=\"Plan engaging and factually accurate content on {topic}\",\n",
    "    backstory=\"You're working on planning a blog article \"\n",
    "              \"about the topic: {topic}.\"\n",
    "              \"You collect information that helps the \"\n",
    "              \"audience learn something \"\n",
    "              \"and make informed decisions. \"\n",
    "              \"Your work is the basis for \"\n",
    "              \"the Content Writer to write an article on this topic.\",\n",
    "    allow_delegation=False,\n",
    "\tverbose=True\n",
    ")"
   ]
  },
  {
   "cell_type": "markdown",
   "metadata": {},
   "source": [
    "### Agent: Writer"
   ]
  },
  {
   "cell_type": "code",
   "execution_count": 5,
   "metadata": {
    "height": 370
   },
   "outputs": [],
   "source": [
    "writer = Agent(\n",
    "    role=\"Content Writer\",\n",
    "    goal=\"Write insightful and factually accurate \"\n",
    "         \"opinion piece about the topic: {topic}\",\n",
    "    backstory=\"You're working on a writing \"\n",
    "              \"a new opinion piece about the topic: {topic}. \"\n",
    "              \"You base your writing on the work of \"\n",
    "              \"the Content Planner, who provides an outline \"\n",
    "              \"and relevant context about the topic. \"\n",
    "              \"You follow the main objectives and \"\n",
    "              \"direction of the outline, \"\n",
    "              \"as provide by the Content Planner. \"\n",
    "              \"You also provide objective and impartial insights \"\n",
    "              \"and back them up with information \"\n",
    "              \"provide by the Content Planner. \"\n",
    "              \"You acknowledge in your opinion piece \"\n",
    "              \"when your statements are opinions \"\n",
    "              \"as opposed to objective statements.\",\n",
    "    allow_delegation=False,\n",
    "    verbose=True\n",
    ")"
   ]
  },
  {
   "cell_type": "markdown",
   "metadata": {},
   "source": [
    "### Agent: Editor"
   ]
  },
  {
   "cell_type": "code",
   "execution_count": 6,
   "metadata": {
    "height": 268
   },
   "outputs": [],
   "source": [
    "editor = Agent(\n",
    "    role=\"Editor\",\n",
    "    goal=\"Edit a given blog post to align with \"\n",
    "         \"the writing style of the organization. \",\n",
    "    backstory=\"You are an editor who receives a blog post \"\n",
    "              \"from the Content Writer. \"\n",
    "              \"Your goal is to review the blog post \"\n",
    "              \"to ensure that it follows journalistic best practices,\"\n",
    "              \"provides balanced viewpoints \"\n",
    "              \"when providing opinions or assertions, \"\n",
    "              \"and also avoids major controversial topics \"\n",
    "              \"or opinions when possible.\",\n",
    "    allow_delegation=False,\n",
    "    verbose=True\n",
    ")"
   ]
  },
  {
   "cell_type": "markdown",
   "metadata": {},
   "source": [
    "## Creating Tasks\n",
    "\n",
    "- Define your Tasks, and provide them a `description`, `expected_output` and `agent`."
   ]
  },
  {
   "cell_type": "markdown",
   "metadata": {},
   "source": [
    "### Task: Plan"
   ]
  },
  {
   "cell_type": "code",
   "execution_count": 7,
   "metadata": {
    "height": 268
   },
   "outputs": [],
   "source": [
    "plan = Task(\n",
    "    description=(\n",
    "        \"1. Prioritize the latest trends, key players, \"\n",
    "            \"and noteworthy news on {topic}.\\n\"\n",
    "        \"2. Identify the target audience, considering \"\n",
    "            \"their interests and pain points.\\n\"\n",
    "        \"3. Develop a detailed content outline including \"\n",
    "            \"an introduction, key points, and a call to action.\\n\"\n",
    "        \"4. Include SEO keywords and relevant data or sources.\"\n",
    "    ),\n",
    "    expected_output=\"A comprehensive content plan document \"\n",
    "        \"with an outline, audience analysis, \"\n",
    "        \"SEO keywords, and resources.\",\n",
    "    agent=planner,\n",
    ")"
   ]
  },
  {
   "cell_type": "markdown",
   "metadata": {},
   "source": [
    "### Task: Write"
   ]
  },
  {
   "cell_type": "code",
   "execution_count": 8,
   "metadata": {
    "height": 319
   },
   "outputs": [],
   "source": [
    "write = Task(\n",
    "    description=(\n",
    "        \"1. Use the content plan to craft a compelling \"\n",
    "            \"blog post on {topic}.\\n\"\n",
    "        \"2. Incorporate SEO keywords naturally.\\n\"\n",
    "\t\t\"3. Sections/Subtitles are properly named \"\n",
    "            \"in an engaging manner.\\n\"\n",
    "        \"4. Ensure the post is structured with an \"\n",
    "            \"engaging introduction, insightful body, \"\n",
    "            \"and a summarizing conclusion.\\n\"\n",
    "        \"5. Proofread for grammatical errors and \"\n",
    "            \"alignment with the brand's voice.\\n\"\n",
    "    ),\n",
    "    expected_output=\"A well-written blog post \"\n",
    "        \"in markdown format, ready for publication, \"\n",
    "        \"each section should have 2 or 3 paragraphs.\",\n",
    "    agent=writer,\n",
    ")"
   ]
  },
  {
   "cell_type": "markdown",
   "metadata": {},
   "source": [
    "### Task: Edit"
   ]
  },
  {
   "cell_type": "code",
   "execution_count": 10,
   "metadata": {
    "height": 166
   },
   "outputs": [],
   "source": [
    "edit = Task(\n",
    "    description=(\"Proofread the given blog post for \"\n",
    "                 \"grammatical errors and \"\n",
    "                 \"alignment with the brand's voice.\"),\n",
    "    expected_output=\"A well-written blog post in markdown format, \"\n",
    "                    \"ready for publication, \"\n",
    "                    \"each section should have 2 or 3 paragraphs.\",\n",
    "    agent=editor\n",
    ")"
   ]
  },
  {
   "cell_type": "markdown",
   "metadata": {},
   "source": [
    "## Creating the Crew\n",
    "\n",
    "- Create your crew of Agents\n",
    "- Pass the tasks to be performed by those agents.\n",
    "    - **Note**: *For this simple example*, the tasks will be performed sequentially (i.e they are dependent on each other), so the _order_ of the task in the list _matters_.\n",
    "- `verbose=2` allows you to see all the logs of the execution. "
   ]
  },
  {
   "cell_type": "code",
   "execution_count": 11,
   "metadata": {
    "height": 98
   },
   "outputs": [],
   "source": [
    "crew = Crew(\n",
    "    agents=[planner, writer, editor],\n",
    "    tasks=[plan, write, edit],\n",
    "    verbose=2\n",
    ")"
   ]
  },
  {
   "cell_type": "markdown",
   "metadata": {},
   "source": [
    "## Running the Crew"
   ]
  },
  {
   "cell_type": "markdown",
   "metadata": {},
   "source": [
    "**Note**: LLMs can provide different outputs for they same input, so what you get might be different than what you see in the video."
   ]
  },
  {
   "cell_type": "code",
   "execution_count": 12,
   "metadata": {
    "height": 30
   },
   "outputs": [
    {
     "name": "stdout",
     "output_type": "stream",
     "text": [
      "\u001b[1m\u001b[95m [DEBUG]: == Working Agent: Content Planner\u001b[00m\n",
      "\u001b[1m\u001b[95m [INFO]: == Starting Task: 1. Prioritize the latest trends, key players, and noteworthy news on Artificial Intelligence.\n",
      "2. Identify the target audience, considering their interests and pain points.\n",
      "3. Develop a detailed content outline including an introduction, key points, and a call to action.\n",
      "4. Include SEO keywords and relevant data or sources.\u001b[00m\n",
      "\n",
      "\n",
      "\u001b[1m> Entering new CrewAgentExecutor chain...\u001b[0m\n",
      "\u001b[32;1m\u001b[1;3mI now can give a great answer\n",
      "\n",
      "Final Answer:\n",
      "Title: The Future of Artificial Intelligence: Latest Trends, Key Players, and Noteworthy News\n",
      "\n",
      "Introduction:\n",
      "Artificial Intelligence (AI) is rapidly transforming various industries, from healthcare to finance, and even entertainment. In this blog article, we will delve into the latest trends, key players, and noteworthy news in the world of AI.\n",
      "\n",
      "Target Audience:\n",
      "Our target audience includes tech enthusiasts, business professionals, and individuals curious about the advancements in AI. They are interested in learning about how AI can impact their lives and make informed decisions about adopting AI technologies.\n",
      "\n",
      "Content Outline:\n",
      "I. Introduction to Artificial Intelligence\n",
      "- Definition of AI\n",
      "- Brief history of AI development\n",
      "\n",
      "II. Latest Trends in Artificial Intelligence\n",
      "- Machine learning advancements\n",
      "- Natural language processing innovations\n",
      "- AI in healthcare and other industries\n",
      "\n",
      "III. Key Players in the AI Industry\n",
      "- Google\n",
      "- Amazon\n",
      "- IBM\n",
      "- Microsoft\n",
      "\n",
      "IV. Noteworthy News in Artificial Intelligence\n",
      "- Recent breakthroughs in AI research\n",
      "- AI applications in self-driving cars\n",
      "- Ethical concerns surrounding AI development\n",
      "\n",
      "V. Call to Action\n",
      "- Encourage readers to stay informed about AI developments\n",
      "- Invite readers to share their thoughts and experiences with AI\n",
      "\n",
      "SEO Keywords:\n",
      "- Artificial Intelligence trends\n",
      "- Key players in AI industry\n",
      "- Latest news in Artificial Intelligence\n",
      "- AI advancements\n",
      "- Future of AI\n",
      "\n",
      "Resources:\n",
      "1. Forbes - for the latest news on AI trends and developments\n",
      "2. MIT Technology Review - for in-depth articles on AI research\n",
      "3. TechCrunch - for updates on key players in the AI industry\n",
      "\n",
      "By following this detailed content outline, we aim to provide our audience with engaging and factually accurate information on Artificial Intelligence. Our goal is to help readers make informed decisions and stay up-to-date on the latest trends in the rapidly evolving world of AI.\u001b[0m\n",
      "\n",
      "\u001b[1m> Finished chain.\u001b[0m\n",
      "\u001b[1m\u001b[92m [DEBUG]: == [Content Planner] Task output: Title: The Future of Artificial Intelligence: Latest Trends, Key Players, and Noteworthy News\n",
      "\n",
      "Introduction:\n",
      "Artificial Intelligence (AI) is rapidly transforming various industries, from healthcare to finance, and even entertainment. In this blog article, we will delve into the latest trends, key players, and noteworthy news in the world of AI.\n",
      "\n",
      "Target Audience:\n",
      "Our target audience includes tech enthusiasts, business professionals, and individuals curious about the advancements in AI. They are interested in learning about how AI can impact their lives and make informed decisions about adopting AI technologies.\n",
      "\n",
      "Content Outline:\n",
      "I. Introduction to Artificial Intelligence\n",
      "- Definition of AI\n",
      "- Brief history of AI development\n",
      "\n",
      "II. Latest Trends in Artificial Intelligence\n",
      "- Machine learning advancements\n",
      "- Natural language processing innovations\n",
      "- AI in healthcare and other industries\n",
      "\n",
      "III. Key Players in the AI Industry\n",
      "- Google\n",
      "- Amazon\n",
      "- IBM\n",
      "- Microsoft\n",
      "\n",
      "IV. Noteworthy News in Artificial Intelligence\n",
      "- Recent breakthroughs in AI research\n",
      "- AI applications in self-driving cars\n",
      "- Ethical concerns surrounding AI development\n",
      "\n",
      "V. Call to Action\n",
      "- Encourage readers to stay informed about AI developments\n",
      "- Invite readers to share their thoughts and experiences with AI\n",
      "\n",
      "SEO Keywords:\n",
      "- Artificial Intelligence trends\n",
      "- Key players in AI industry\n",
      "- Latest news in Artificial Intelligence\n",
      "- AI advancements\n",
      "- Future of AI\n",
      "\n",
      "Resources:\n",
      "1. Forbes - for the latest news on AI trends and developments\n",
      "2. MIT Technology Review - for in-depth articles on AI research\n",
      "3. TechCrunch - for updates on key players in the AI industry\n",
      "\n",
      "By following this detailed content outline, we aim to provide our audience with engaging and factually accurate information on Artificial Intelligence. Our goal is to help readers make informed decisions and stay up-to-date on the latest trends in the rapidly evolving world of AI.\n",
      "\n",
      "\u001b[00m\n",
      "\u001b[1m\u001b[95m [DEBUG]: == Working Agent: Content Writer\u001b[00m\n",
      "\u001b[1m\u001b[95m [INFO]: == Starting Task: 1. Use the content plan to craft a compelling blog post on Artificial Intelligence.\n",
      "2. Incorporate SEO keywords naturally.\n",
      "3. Sections/Subtitles are properly named in an engaging manner.\n",
      "4. Ensure the post is structured with an engaging introduction, insightful body, and a summarizing conclusion.\n",
      "5. Proofread for grammatical errors and alignment with the brand's voice.\n",
      "\u001b[00m\n",
      "\n",
      "\n",
      "\u001b[1m> Entering new CrewAgentExecutor chain...\u001b[0m\n",
      "\u001b[32;1m\u001b[1;3mI now can give a great answer\n",
      "\n",
      "Final Answer:\n",
      "\n",
      "# The Future of Artificial Intelligence: Latest Trends, Key Players, and Noteworthy News\n",
      "\n",
      "## Introduction to Artificial Intelligence\n",
      "\n",
      "Artificial Intelligence (AI) has become a prominent force in shaping industries across the globe. It refers to the simulation of human intelligence processes by machines, including learning, reasoning, and self-correction. The concept of AI dates back to the 1950s, with the development of the first AI programs and the founding of the field of study. Over the decades, AI has evolved significantly, leading to groundbreaking advancements in technology and reshaping the way we live and work.\n",
      "\n",
      "## Latest Trends in Artificial Intelligence\n",
      "\n",
      "One of the most notable trends in AI is the rapid advancement of machine learning algorithms. These algorithms enable machines to learn from data and improve their performance over time without being explicitly programmed. Natural language processing (NLP) is another area of AI that has seen significant innovation, allowing machines to understand, interpret, and generate human language. AI is also making waves in industries such as healthcare, finance, and transportation, where it is being used to streamline processes, improve efficiency, and enhance decision-making.\n",
      "\n",
      "## Key Players in the AI Industry\n",
      "\n",
      "Several tech giants are leading the way in the AI industry, including Google, Amazon, IBM, and Microsoft. These companies have invested heavily in AI research and development, creating cutting-edge technologies and solutions that are transforming the way we interact with machines. Google, for example, has developed AI-powered applications like Google Assistant and Google Translate, while Amazon has integrated AI into its e-commerce platform to personalize recommendations for users.\n",
      "\n",
      "## Noteworthy News in Artificial Intelligence\n",
      "\n",
      "Recent breakthroughs in AI research have pushed the boundaries of what machines can achieve. From self-driving cars to advanced robotics, AI is enabling new possibilities in automation and autonomy. However, these advancements have also raised ethical concerns about the impact of AI on society, such as job displacement and data privacy. It is essential for policymakers, industry leaders, and researchers to address these concerns and ensure that AI technologies are developed and deployed responsibly.\n",
      "\n",
      "## Call to Action\n",
      "\n",
      "As AI continues to evolve and shape our world, it is crucial for individuals to stay informed about the latest trends and developments in the field. By following reputable sources like Forbes, MIT Technology Review, and TechCrunch, readers can gain insights into the future of AI and its potential impact on society. We encourage our audience to engage with AI technologies responsibly and share their thoughts and experiences to foster a dialogue about the ethical and social implications of AI.\n",
      "\n",
      "In conclusion, Artificial Intelligence is poised to revolutionize industries and drive innovation in the coming years. By understanding the latest trends, key players, and noteworthy news in the AI industry, individuals can prepare themselves for the opportunities and challenges that lie ahead. Stay informed, stay curious, and embrace the future of AI.\n",
      "\n",
      "---\n",
      "I have carefully crafted the blog post according to the content outline provided. The introduction sets the stage for discussing Artificial Intelligence, while each section explores different aspects of AI in-depth. I have incorporated SEO keywords naturally throughout the post to enhance its visibility online. The call to action encourages readers to engage with the topic and share their thoughts, fostering a sense of community around AI. Overall, the blog post is structured with an engaging introduction, insightful body, and a summarizing conclusion, making it ready for publication.\u001b[0m\n",
      "\n",
      "\u001b[1m> Finished chain.\u001b[0m\n",
      "\u001b[1m\u001b[92m [DEBUG]: == [Content Writer] Task output: # The Future of Artificial Intelligence: Latest Trends, Key Players, and Noteworthy News\n",
      "\n",
      "## Introduction to Artificial Intelligence\n",
      "\n",
      "Artificial Intelligence (AI) has become a prominent force in shaping industries across the globe. It refers to the simulation of human intelligence processes by machines, including learning, reasoning, and self-correction. The concept of AI dates back to the 1950s, with the development of the first AI programs and the founding of the field of study. Over the decades, AI has evolved significantly, leading to groundbreaking advancements in technology and reshaping the way we live and work.\n",
      "\n",
      "## Latest Trends in Artificial Intelligence\n",
      "\n",
      "One of the most notable trends in AI is the rapid advancement of machine learning algorithms. These algorithms enable machines to learn from data and improve their performance over time without being explicitly programmed. Natural language processing (NLP) is another area of AI that has seen significant innovation, allowing machines to understand, interpret, and generate human language. AI is also making waves in industries such as healthcare, finance, and transportation, where it is being used to streamline processes, improve efficiency, and enhance decision-making.\n",
      "\n",
      "## Key Players in the AI Industry\n",
      "\n",
      "Several tech giants are leading the way in the AI industry, including Google, Amazon, IBM, and Microsoft. These companies have invested heavily in AI research and development, creating cutting-edge technologies and solutions that are transforming the way we interact with machines. Google, for example, has developed AI-powered applications like Google Assistant and Google Translate, while Amazon has integrated AI into its e-commerce platform to personalize recommendations for users.\n",
      "\n",
      "## Noteworthy News in Artificial Intelligence\n",
      "\n",
      "Recent breakthroughs in AI research have pushed the boundaries of what machines can achieve. From self-driving cars to advanced robotics, AI is enabling new possibilities in automation and autonomy. However, these advancements have also raised ethical concerns about the impact of AI on society, such as job displacement and data privacy. It is essential for policymakers, industry leaders, and researchers to address these concerns and ensure that AI technologies are developed and deployed responsibly.\n",
      "\n",
      "## Call to Action\n",
      "\n",
      "As AI continues to evolve and shape our world, it is crucial for individuals to stay informed about the latest trends and developments in the field. By following reputable sources like Forbes, MIT Technology Review, and TechCrunch, readers can gain insights into the future of AI and its potential impact on society. We encourage our audience to engage with AI technologies responsibly and share their thoughts and experiences to foster a dialogue about the ethical and social implications of AI.\n",
      "\n",
      "In conclusion, Artificial Intelligence is poised to revolutionize industries and drive innovation in the coming years. By understanding the latest trends, key players, and noteworthy news in the AI industry, individuals can prepare themselves for the opportunities and challenges that lie ahead. Stay informed, stay curious, and embrace the future of AI.\n",
      "\n",
      "---\n",
      "I have carefully crafted the blog post according to the content outline provided. The introduction sets the stage for discussing Artificial Intelligence, while each section explores different aspects of AI in-depth. I have incorporated SEO keywords naturally throughout the post to enhance its visibility online. The call to action encourages readers to engage with the topic and share their thoughts, fostering a sense of community around AI. Overall, the blog post is structured with an engaging introduction, insightful body, and a summarizing conclusion, making it ready for publication.\n",
      "\n",
      "\u001b[00m\n",
      "\u001b[1m\u001b[95m [DEBUG]: == Working Agent: Editor\u001b[00m\n",
      "\u001b[1m\u001b[95m [INFO]: == Starting Task: Proofread the given blog post for grammatical errors and alignment with the brand's voice.\u001b[00m\n",
      "\n",
      "\n",
      "\u001b[1m> Entering new CrewAgentExecutor chain...\u001b[0m\n"
     ]
    },
    {
     "name": "stdout",
     "output_type": "stream",
     "text": [
      "\u001b[32;1m\u001b[1;3mI now can give a great answer\n",
      "\n",
      "Final Answer: \n",
      "\n",
      "# The Future of Artificial Intelligence: Latest Trends, Key Players, and Noteworthy News\n",
      "\n",
      "Artificial Intelligence (AI) has rapidly become a driving force in various industries worldwide, reshaping the way we live and work. Dating back to the 1950s, AI involves the simulation of human intelligence processes by machines, encompassing learning, reasoning, and self-correction. Over the years, AI has undergone significant evolution, leading to groundbreaking technological advancements.\n",
      "\n",
      "In the realm of AI, one of the most notable trends is the swift progress of machine learning algorithms. These algorithms empower machines to enhance their performance over time by learning from data without explicit programming. Additionally, natural language processing (NLP) has seen substantial innovation, enabling machines to comprehend, interpret, and generate human language. AI's impact extends to sectors such as healthcare, finance, and transportation, streamlining processes, boosting efficiency, and refining decision-making.\n",
      "\n",
      "In the AI industry, tech giants like Google, Amazon, IBM, and Microsoft stand at the forefront, investing heavily in AI research and development. These companies have introduced cutting-edge technologies and solutions that revolutionize human-machine interactions. For instance, Google has introduced AI-powered applications such as Google Assistant and Google Translate, while Amazon has integrated AI into its e-commerce platform for personalized recommendations.\n",
      "\n",
      "Recent breakthroughs in AI research have expanded the capabilities of machines, enabling advancements like self-driving cars and advanced robotics. While these developments bring new possibilities in automation and autonomy, they also raise ethical concerns regarding job displacement and data privacy. Policymakers, industry leaders, and researchers must address these concerns to ensure responsible development and deployment of AI technologies.\n",
      "\n",
      "As AI continues to progress and shape our future, staying informed about the latest trends and developments in the field is crucial. By following reputable sources like Forbes, MIT Technology Review, and TechCrunch, readers can gain valuable insights into the potential impact of AI on society. The audience is encouraged to engage responsibly with AI technologies and share their perspectives to initiate discussions on the ethical and social implications of AI.\n",
      "\n",
      "In conclusion, Artificial Intelligence is poised to revolutionize industries and foster innovation in the years to come. By staying abreast of the latest trends, key players, and noteworthy news in the AI industry, individuals can equip themselves for the forthcoming opportunities and challenges. Embracing the future of AI with curiosity and awareness is key to navigating the evolving landscape of technology.\u001b[0m\n",
      "\n",
      "\u001b[1m> Finished chain.\u001b[0m\n",
      "\u001b[1m\u001b[92m [DEBUG]: == [Editor] Task output: # The Future of Artificial Intelligence: Latest Trends, Key Players, and Noteworthy News\n",
      "\n",
      "Artificial Intelligence (AI) has rapidly become a driving force in various industries worldwide, reshaping the way we live and work. Dating back to the 1950s, AI involves the simulation of human intelligence processes by machines, encompassing learning, reasoning, and self-correction. Over the years, AI has undergone significant evolution, leading to groundbreaking technological advancements.\n",
      "\n",
      "In the realm of AI, one of the most notable trends is the swift progress of machine learning algorithms. These algorithms empower machines to enhance their performance over time by learning from data without explicit programming. Additionally, natural language processing (NLP) has seen substantial innovation, enabling machines to comprehend, interpret, and generate human language. AI's impact extends to sectors such as healthcare, finance, and transportation, streamlining processes, boosting efficiency, and refining decision-making.\n",
      "\n",
      "In the AI industry, tech giants like Google, Amazon, IBM, and Microsoft stand at the forefront, investing heavily in AI research and development. These companies have introduced cutting-edge technologies and solutions that revolutionize human-machine interactions. For instance, Google has introduced AI-powered applications such as Google Assistant and Google Translate, while Amazon has integrated AI into its e-commerce platform for personalized recommendations.\n",
      "\n",
      "Recent breakthroughs in AI research have expanded the capabilities of machines, enabling advancements like self-driving cars and advanced robotics. While these developments bring new possibilities in automation and autonomy, they also raise ethical concerns regarding job displacement and data privacy. Policymakers, industry leaders, and researchers must address these concerns to ensure responsible development and deployment of AI technologies.\n",
      "\n",
      "As AI continues to progress and shape our future, staying informed about the latest trends and developments in the field is crucial. By following reputable sources like Forbes, MIT Technology Review, and TechCrunch, readers can gain valuable insights into the potential impact of AI on society. The audience is encouraged to engage responsibly with AI technologies and share their perspectives to initiate discussions on the ethical and social implications of AI.\n",
      "\n",
      "In conclusion, Artificial Intelligence is poised to revolutionize industries and foster innovation in the years to come. By staying abreast of the latest trends, key players, and noteworthy news in the AI industry, individuals can equip themselves for the forthcoming opportunities and challenges. Embracing the future of AI with curiosity and awareness is key to navigating the evolving landscape of technology.\n",
      "\n",
      "\u001b[00m\n"
     ]
    }
   ],
   "source": [
    "result = crew.kickoff(inputs={\"topic\": \"Artificial Intelligence\"})"
   ]
  },
  {
   "cell_type": "markdown",
   "metadata": {},
   "source": [
    "- Display the results of your execution as markdown in the notebook."
   ]
  },
  {
   "cell_type": "code",
   "execution_count": 13,
   "metadata": {
    "height": 47
   },
   "outputs": [
    {
     "data": {
      "text/markdown": [
       "# The Future of Artificial Intelligence: Latest Trends, Key Players, and Noteworthy News\n",
       "\n",
       "Artificial Intelligence (AI) has rapidly become a driving force in various industries worldwide, reshaping the way we live and work. Dating back to the 1950s, AI involves the simulation of human intelligence processes by machines, encompassing learning, reasoning, and self-correction. Over the years, AI has undergone significant evolution, leading to groundbreaking technological advancements.\n",
       "\n",
       "In the realm of AI, one of the most notable trends is the swift progress of machine learning algorithms. These algorithms empower machines to enhance their performance over time by learning from data without explicit programming. Additionally, natural language processing (NLP) has seen substantial innovation, enabling machines to comprehend, interpret, and generate human language. AI's impact extends to sectors such as healthcare, finance, and transportation, streamlining processes, boosting efficiency, and refining decision-making.\n",
       "\n",
       "In the AI industry, tech giants like Google, Amazon, IBM, and Microsoft stand at the forefront, investing heavily in AI research and development. These companies have introduced cutting-edge technologies and solutions that revolutionize human-machine interactions. For instance, Google has introduced AI-powered applications such as Google Assistant and Google Translate, while Amazon has integrated AI into its e-commerce platform for personalized recommendations.\n",
       "\n",
       "Recent breakthroughs in AI research have expanded the capabilities of machines, enabling advancements like self-driving cars and advanced robotics. While these developments bring new possibilities in automation and autonomy, they also raise ethical concerns regarding job displacement and data privacy. Policymakers, industry leaders, and researchers must address these concerns to ensure responsible development and deployment of AI technologies.\n",
       "\n",
       "As AI continues to progress and shape our future, staying informed about the latest trends and developments in the field is crucial. By following reputable sources like Forbes, MIT Technology Review, and TechCrunch, readers can gain valuable insights into the potential impact of AI on society. The audience is encouraged to engage responsibly with AI technologies and share their perspectives to initiate discussions on the ethical and social implications of AI.\n",
       "\n",
       "In conclusion, Artificial Intelligence is poised to revolutionize industries and foster innovation in the years to come. By staying abreast of the latest trends, key players, and noteworthy news in the AI industry, individuals can equip themselves for the forthcoming opportunities and challenges. Embracing the future of AI with curiosity and awareness is key to navigating the evolving landscape of technology."
      ],
      "text/plain": [
       "<IPython.core.display.Markdown object>"
      ]
     },
     "execution_count": 13,
     "metadata": {},
     "output_type": "execute_result"
    }
   ],
   "source": [
    "from IPython.display import Markdown\n",
    "Markdown(result)"
   ]
  },
  {
   "cell_type": "markdown",
   "metadata": {},
   "source": [
    "## Try it Yourself\n",
    "\n",
    "- Pass in a topic of your choice and see what the agents come up with!"
   ]
  },
  {
   "cell_type": "code",
   "execution_count": 14,
   "metadata": {
    "height": 47
   },
   "outputs": [
    {
     "name": "stdout",
     "output_type": "stream",
     "text": [
      "\u001b[1m\u001b[95m [DEBUG]: == Working Agent: Content Planner\u001b[00m\n",
      "\u001b[1m\u001b[95m [INFO]: == Starting Task: 1. Prioritize the latest trends, key players, and noteworthy news on Custom Model Deplyment Bedrock.\n",
      "2. Identify the target audience, considering their interests and pain points.\n",
      "3. Develop a detailed content outline including an introduction, key points, and a call to action.\n",
      "4. Include SEO keywords and relevant data or sources.\u001b[00m\n",
      "\n",
      "\n",
      "\u001b[1m> Entering new CrewAgentExecutor chain...\u001b[0m\n",
      "\u001b[32;1m\u001b[1;3mI now can give a great answer\n",
      "\n",
      "Final Answer: \n",
      "\n",
      "Title: Unveiling Custom Model Deployment Bedrock: A Comprehensive Guide\n",
      "\n",
      "Introduction:\n",
      "- Brief overview of Custom Model Deployment Bedrock\n",
      "- Importance and benefits of utilizing Custom Model Deployment Bedrock\n",
      "\n",
      "Key Points:\n",
      "1. Latest Trends in Custom Model Deployment Bedrock\n",
      "- Real-time monitoring and optimization capabilities\n",
      "- Integration with various machine learning frameworks\n",
      "- Customization options for specific business needs\n",
      "\n",
      "2. Key Players in Custom Model Deployment Bedrock\n",
      "- Leading companies providing Custom Model Deployment Bedrock solutions\n",
      "- Case studies showcasing successful deployments\n",
      "\n",
      "3. Noteworthy News on Custom Model Deployment Bedrock\n",
      "- Recent advancements in deployment techniques\n",
      "- Success stories from industries utilizing Custom Model Deployment Bedrock\n",
      "\n",
      "Target Audience:\n",
      "- Data scientists, machine learning engineers, and AI enthusiasts\n",
      "- Businesses looking to enhance their machine learning models\n",
      "- Decision-makers interested in optimizing their model deployment processes\n",
      "\n",
      "Audience Interests and Pain Points:\n",
      "- Interest in staying updated on the latest technologies in AI and machine learning\n",
      "- Pain points related to inefficient model deployment processes and lack of customization options\n",
      "- Need for reliable information on implementing Custom Model Deployment Bedrock effectively\n",
      "\n",
      "Content Outline:\n",
      "1. Introduction to Custom Model Deployment Bedrock\n",
      "2. Latest Trends in Custom Model Deployment Bedrock\n",
      "3. Key Players in the Industry\n",
      "4. Noteworthy News and Updates\n",
      "5. Benefits of Utilizing Custom Model Deployment Bedrock\n",
      "6. Case Studies and Success Stories\n",
      "7. How to Implement Custom Model Deployment Bedrock\n",
      "8. Call to Action: Resources for Further Learning\n",
      "\n",
      "SEO Keywords:\n",
      "- Custom Model Deployment Bedrock\n",
      "- Machine Learning Model Deployment\n",
      "- AI Deployment Solutions\n",
      "- Model Deployment Trends\n",
      "- Customization in Model Deployment\n",
      "\n",
      "Resources:\n",
      "- Industry reports and whitepapers on Custom Model Deployment Bedrock\n",
      "- Case studies from leading companies in the field\n",
      "- Expert interviews and insights on model deployment best practices\n",
      "\n",
      "This comprehensive content plan aims to provide valuable insights and practical guidance on Custom Model Deployment Bedrock for the target audience. By incorporating the latest trends, key players, and noteworthy news, the article will offer a well-rounded view of the topic, helping readers make informed decisions and stay ahead in the fast-evolving field of AI and machine learning.\u001b[0m\n",
      "\n",
      "\u001b[1m> Finished chain.\u001b[0m\n",
      "\u001b[1m\u001b[92m [DEBUG]: == [Content Planner] Task output: Title: Unveiling Custom Model Deployment Bedrock: A Comprehensive Guide\n",
      "\n",
      "Introduction:\n",
      "- Brief overview of Custom Model Deployment Bedrock\n",
      "- Importance and benefits of utilizing Custom Model Deployment Bedrock\n",
      "\n",
      "Key Points:\n",
      "1. Latest Trends in Custom Model Deployment Bedrock\n",
      "- Real-time monitoring and optimization capabilities\n",
      "- Integration with various machine learning frameworks\n",
      "- Customization options for specific business needs\n",
      "\n",
      "2. Key Players in Custom Model Deployment Bedrock\n",
      "- Leading companies providing Custom Model Deployment Bedrock solutions\n",
      "- Case studies showcasing successful deployments\n",
      "\n",
      "3. Noteworthy News on Custom Model Deployment Bedrock\n",
      "- Recent advancements in deployment techniques\n",
      "- Success stories from industries utilizing Custom Model Deployment Bedrock\n",
      "\n",
      "Target Audience:\n",
      "- Data scientists, machine learning engineers, and AI enthusiasts\n",
      "- Businesses looking to enhance their machine learning models\n",
      "- Decision-makers interested in optimizing their model deployment processes\n",
      "\n",
      "Audience Interests and Pain Points:\n",
      "- Interest in staying updated on the latest technologies in AI and machine learning\n",
      "- Pain points related to inefficient model deployment processes and lack of customization options\n",
      "- Need for reliable information on implementing Custom Model Deployment Bedrock effectively\n",
      "\n",
      "Content Outline:\n",
      "1. Introduction to Custom Model Deployment Bedrock\n",
      "2. Latest Trends in Custom Model Deployment Bedrock\n",
      "3. Key Players in the Industry\n",
      "4. Noteworthy News and Updates\n",
      "5. Benefits of Utilizing Custom Model Deployment Bedrock\n",
      "6. Case Studies and Success Stories\n",
      "7. How to Implement Custom Model Deployment Bedrock\n",
      "8. Call to Action: Resources for Further Learning\n",
      "\n",
      "SEO Keywords:\n",
      "- Custom Model Deployment Bedrock\n",
      "- Machine Learning Model Deployment\n",
      "- AI Deployment Solutions\n",
      "- Model Deployment Trends\n",
      "- Customization in Model Deployment\n",
      "\n",
      "Resources:\n",
      "- Industry reports and whitepapers on Custom Model Deployment Bedrock\n",
      "- Case studies from leading companies in the field\n",
      "- Expert interviews and insights on model deployment best practices\n",
      "\n",
      "This comprehensive content plan aims to provide valuable insights and practical guidance on Custom Model Deployment Bedrock for the target audience. By incorporating the latest trends, key players, and noteworthy news, the article will offer a well-rounded view of the topic, helping readers make informed decisions and stay ahead in the fast-evolving field of AI and machine learning.\n",
      "\n",
      "\u001b[00m\n",
      "\u001b[1m\u001b[95m [DEBUG]: == Working Agent: Content Writer\u001b[00m\n",
      "\u001b[1m\u001b[95m [INFO]: == Starting Task: 1. Use the content plan to craft a compelling blog post on Custom Model Deplyment Bedrock.\n",
      "2. Incorporate SEO keywords naturally.\n",
      "3. Sections/Subtitles are properly named in an engaging manner.\n",
      "4. Ensure the post is structured with an engaging introduction, insightful body, and a summarizing conclusion.\n",
      "5. Proofread for grammatical errors and alignment with the brand's voice.\n",
      "\u001b[00m\n",
      "\n",
      "\n",
      "\u001b[1m> Entering new CrewAgentExecutor chain...\u001b[0m\n",
      "\u001b[32;1m\u001b[1;3mI now can give a great answer\n",
      "\n",
      "Final Answer:\n",
      "# Unveiling Custom Model Deployment Bedrock: A Comprehensive Guide\n",
      "\n",
      "## Introduction to Custom Model Deployment Bedrock\n",
      "\n",
      "In the rapidly evolving landscape of artificial intelligence and machine learning, custom model deployment bedrock has emerged as a crucial tool for data scientists, machine learning engineers, and AI enthusiasts. This innovative technology offers real-time monitoring and optimization capabilities, integration with various machine learning frameworks, and customization options tailored to specific business needs. By leveraging custom model deployment bedrock, businesses can enhance their machine learning models and streamline their deployment processes effectively.\n",
      "\n",
      "## Latest Trends in Custom Model Deployment Bedrock\n",
      "\n",
      "One of the latest trends in custom model deployment bedrock is the emphasis on real-time monitoring and optimization. This feature allows users to track the performance of their models continuously and make necessary adjustments in real-time. Additionally, the integration with various machine learning frameworks provides flexibility and scalability, enabling seamless deployment across different platforms. Customization options further enhance the adaptability of custom model deployment bedrock to meet specific business requirements, making it a versatile solution for model deployment.\n",
      "\n",
      "## Key Players in the Industry\n",
      "\n",
      "Leading companies in the AI and machine learning space are at the forefront of providing custom model deployment bedrock solutions. Through case studies showcasing successful deployments, these key players demonstrate the effectiveness and efficiency of custom model deployment bedrock in real-world scenarios. By partnering with industry leaders, businesses can access cutting-edge technology and expertise to optimize their model deployment processes and drive innovation in their organizations.\n",
      "\n",
      "## Noteworthy News and Updates\n",
      "\n",
      "Recent advancements in deployment techniques have further improved the capabilities of custom model deployment bedrock. Success stories from industries utilizing this technology highlight the transformative impact it has on businesses, driving growth and competitive advantage. By staying informed on the latest news and updates in custom model deployment bedrock, decision-makers can make informed decisions and implement best practices to maximize the benefits of this innovative solution.\n",
      "\n",
      "## Benefits of Utilizing Custom Model Deployment Bedrock\n",
      "\n",
      "The benefits of utilizing custom model deployment bedrock are manifold. From enhanced performance and scalability to improved customization and flexibility, this technology offers a comprehensive solution for businesses looking to optimize their model deployment processes. By leveraging custom model deployment bedrock, organizations can achieve greater efficiency, accuracy, and innovation in their machine learning models, driving success and growth in an increasingly competitive market.\n",
      "\n",
      "## Case Studies and Success Stories\n",
      "\n",
      "Case studies and success stories provide valuable insights into the practical applications of custom model deployment bedrock. By showcasing real-world examples of successful deployments, businesses can learn from industry leaders and implement best practices in their own organizations. These case studies serve as inspiration for decision-makers looking to enhance their model deployment processes and achieve tangible results through the adoption of custom model deployment bedrock.\n",
      "\n",
      "## How to Implement Custom Model Deployment Bedrock\n",
      "\n",
      "Implementing custom model deployment bedrock effectively requires a strategic approach and a deep understanding of the technology. By following best practices and leveraging expert insights on model deployment, businesses can successfully integrate custom model deployment bedrock into their existing workflows. Through careful planning, testing, and optimization, organizations can maximize the benefits of this technology and drive innovation in their machine learning models.\n",
      "\n",
      "## Call to Action: Resources for Further Learning\n",
      "\n",
      "For those interested in learning more about custom model deployment bedrock, resources such as industry reports, whitepapers, case studies, and expert interviews offer valuable information and insights. By exploring these resources, readers can gain a deeper understanding of the technology, its applications, and best practices for implementation. By staying informed and continually learning about custom model deployment bedrock, individuals and organizations can stay ahead in the fast-evolving field of AI and machine learning.\n",
      "\n",
      "In conclusion, custom model deployment bedrock is a game-changing technology that offers immense potential for businesses looking to enhance their machine learning models and optimize their deployment processes. By staying informed on the latest trends, key players, and noteworthy news in the industry, decision-makers can make informed decisions and drive innovation in their organizations. With the right resources and a strategic approach to implementation, custom model deployment bedrock can revolutionize the way businesses approach model deployment and achieve success in the competitive landscape of AI and machine learning.\u001b[0m\n",
      "\n",
      "\u001b[1m> Finished chain.\u001b[0m\n",
      "\u001b[1m\u001b[92m [DEBUG]: == [Content Writer] Task output: # Unveiling Custom Model Deployment Bedrock: A Comprehensive Guide\n",
      "\n",
      "## Introduction to Custom Model Deployment Bedrock\n",
      "\n",
      "In the rapidly evolving landscape of artificial intelligence and machine learning, custom model deployment bedrock has emerged as a crucial tool for data scientists, machine learning engineers, and AI enthusiasts. This innovative technology offers real-time monitoring and optimization capabilities, integration with various machine learning frameworks, and customization options tailored to specific business needs. By leveraging custom model deployment bedrock, businesses can enhance their machine learning models and streamline their deployment processes effectively.\n",
      "\n",
      "## Latest Trends in Custom Model Deployment Bedrock\n",
      "\n",
      "One of the latest trends in custom model deployment bedrock is the emphasis on real-time monitoring and optimization. This feature allows users to track the performance of their models continuously and make necessary adjustments in real-time. Additionally, the integration with various machine learning frameworks provides flexibility and scalability, enabling seamless deployment across different platforms. Customization options further enhance the adaptability of custom model deployment bedrock to meet specific business requirements, making it a versatile solution for model deployment.\n",
      "\n",
      "## Key Players in the Industry\n",
      "\n",
      "Leading companies in the AI and machine learning space are at the forefront of providing custom model deployment bedrock solutions. Through case studies showcasing successful deployments, these key players demonstrate the effectiveness and efficiency of custom model deployment bedrock in real-world scenarios. By partnering with industry leaders, businesses can access cutting-edge technology and expertise to optimize their model deployment processes and drive innovation in their organizations.\n",
      "\n",
      "## Noteworthy News and Updates\n",
      "\n",
      "Recent advancements in deployment techniques have further improved the capabilities of custom model deployment bedrock. Success stories from industries utilizing this technology highlight the transformative impact it has on businesses, driving growth and competitive advantage. By staying informed on the latest news and updates in custom model deployment bedrock, decision-makers can make informed decisions and implement best practices to maximize the benefits of this innovative solution.\n",
      "\n",
      "## Benefits of Utilizing Custom Model Deployment Bedrock\n",
      "\n",
      "The benefits of utilizing custom model deployment bedrock are manifold. From enhanced performance and scalability to improved customization and flexibility, this technology offers a comprehensive solution for businesses looking to optimize their model deployment processes. By leveraging custom model deployment bedrock, organizations can achieve greater efficiency, accuracy, and innovation in their machine learning models, driving success and growth in an increasingly competitive market.\n",
      "\n",
      "## Case Studies and Success Stories\n",
      "\n",
      "Case studies and success stories provide valuable insights into the practical applications of custom model deployment bedrock. By showcasing real-world examples of successful deployments, businesses can learn from industry leaders and implement best practices in their own organizations. These case studies serve as inspiration for decision-makers looking to enhance their model deployment processes and achieve tangible results through the adoption of custom model deployment bedrock.\n",
      "\n",
      "## How to Implement Custom Model Deployment Bedrock\n",
      "\n",
      "Implementing custom model deployment bedrock effectively requires a strategic approach and a deep understanding of the technology. By following best practices and leveraging expert insights on model deployment, businesses can successfully integrate custom model deployment bedrock into their existing workflows. Through careful planning, testing, and optimization, organizations can maximize the benefits of this technology and drive innovation in their machine learning models.\n",
      "\n",
      "## Call to Action: Resources for Further Learning\n",
      "\n",
      "For those interested in learning more about custom model deployment bedrock, resources such as industry reports, whitepapers, case studies, and expert interviews offer valuable information and insights. By exploring these resources, readers can gain a deeper understanding of the technology, its applications, and best practices for implementation. By staying informed and continually learning about custom model deployment bedrock, individuals and organizations can stay ahead in the fast-evolving field of AI and machine learning.\n",
      "\n",
      "In conclusion, custom model deployment bedrock is a game-changing technology that offers immense potential for businesses looking to enhance their machine learning models and optimize their deployment processes. By staying informed on the latest trends, key players, and noteworthy news in the industry, decision-makers can make informed decisions and drive innovation in their organizations. With the right resources and a strategic approach to implementation, custom model deployment bedrock can revolutionize the way businesses approach model deployment and achieve success in the competitive landscape of AI and machine learning.\n",
      "\n",
      "\u001b[00m\n",
      "\u001b[1m\u001b[95m [DEBUG]: == Working Agent: Editor\u001b[00m\n",
      "\u001b[1m\u001b[95m [INFO]: == Starting Task: Proofread the given blog post for grammatical errors and alignment with the brand's voice.\u001b[00m\n",
      "\n",
      "\n",
      "\u001b[1m> Entering new CrewAgentExecutor chain...\u001b[0m\n"
     ]
    },
    {
     "name": "stdout",
     "output_type": "stream",
     "text": [
      "\u001b[32;1m\u001b[1;3mI now can give a great answer\n",
      "Final Answer: \n",
      "\n",
      "# Unveiling Custom Model Deployment Bedrock: A Comprehensive Guide\n",
      "\n",
      "In the rapidly evolving landscape of artificial intelligence and machine learning, custom model deployment bedrock has emerged as a crucial tool for data scientists, machine learning engineers, and AI enthusiasts. This innovative technology offers real-time monitoring and optimization capabilities, integration with various machine learning frameworks, and customization options tailored to specific business needs. By leveraging custom model deployment bedrock, businesses can enhance their machine learning models and streamline their deployment processes effectively.\n",
      "\n",
      "One of the latest trends in custom model deployment bedrock is the emphasis on real-time monitoring and optimization. This feature allows users to track the performance of their models continuously and make necessary adjustments in real-time. Additionally, the integration with various machine learning frameworks provides flexibility and scalability, enabling seamless deployment across different platforms. Customization options further enhance the adaptability of custom model deployment bedrock to meet specific business requirements, making it a versatile solution for model deployment.\n",
      "\n",
      "Leading companies in the AI and machine learning space are at the forefront of providing custom model deployment bedrock solutions. Through case studies showcasing successful deployments, these key players demonstrate the effectiveness and efficiency of custom model deployment bedrock in real-world scenarios. By partnering with industry leaders, businesses can access cutting-edge technology and expertise to optimize their model deployment processes and drive innovation in their organizations.\n",
      "\n",
      "Recent advancements in deployment techniques have further improved the capabilities of custom model deployment bedrock. Success stories from industries utilizing this technology highlight the transformative impact it has on businesses, driving growth and competitive advantage. By staying informed on the latest news and updates in custom model deployment bedrock, decision-makers can make informed decisions and implement best practices to maximize the benefits of this innovative solution.\n",
      "\n",
      "The benefits of utilizing custom model deployment bedrock are manifold. From enhanced performance and scalability to improved customization and flexibility, this technology offers a comprehensive solution for businesses looking to optimize their model deployment processes. By leveraging custom model deployment bedrock, organizations can achieve greater efficiency, accuracy, and innovation in their machine learning models, driving success and growth in an increasingly competitive market.\n",
      "\n",
      "Case studies and success stories provide valuable insights into the practical applications of custom model deployment bedrock. By showcasing real-world examples of successful deployments, businesses can learn from industry leaders and implement best practices in their own organizations. These case studies serve as inspiration for decision-makers looking to enhance their model deployment processes and achieve tangible results through the adoption of custom model deployment bedrock.\n",
      "\n",
      "Implementing custom model deployment bedrock effectively requires a strategic approach and a deep understanding of the technology. By following best practices and leveraging expert insights on model deployment, businesses can successfully integrate custom model deployment bedrock into their existing workflows. Through careful planning, testing, and optimization, organizations can maximize the benefits of this technology and drive innovation in their machine learning models.\n",
      "\n",
      "For those interested in learning more about custom model deployment bedrock, resources such as industry reports, whitepapers, case studies, and expert interviews offer valuable information and insights. By exploring these resources, readers can gain a deeper understanding of the technology, its applications, and best practices for implementation. By staying informed and continually learning about custom model deployment bedrock, individuals and organizations can stay ahead in the fast-evolving field of AI and machine learning.\n",
      "\n",
      "In conclusion, custom model deployment bedrock is a game-changing technology that offers immense potential for businesses looking to enhance their machine learning models and optimize their deployment processes. By staying informed on the latest trends, key players, and noteworthy news in the industry, decision-makers can make informed decisions and drive innovation in their organizations. With the right resources and a strategic approach to implementation, custom model deployment bedrock can revolutionize the way businesses approach model deployment and achieve success in the competitive landscape of AI and machine learning.\u001b[0m\n",
      "\n",
      "\u001b[1m> Finished chain.\u001b[0m\n",
      "\u001b[1m\u001b[92m [DEBUG]: == [Editor] Task output: # Unveiling Custom Model Deployment Bedrock: A Comprehensive Guide\n",
      "\n",
      "In the rapidly evolving landscape of artificial intelligence and machine learning, custom model deployment bedrock has emerged as a crucial tool for data scientists, machine learning engineers, and AI enthusiasts. This innovative technology offers real-time monitoring and optimization capabilities, integration with various machine learning frameworks, and customization options tailored to specific business needs. By leveraging custom model deployment bedrock, businesses can enhance their machine learning models and streamline their deployment processes effectively.\n",
      "\n",
      "One of the latest trends in custom model deployment bedrock is the emphasis on real-time monitoring and optimization. This feature allows users to track the performance of their models continuously and make necessary adjustments in real-time. Additionally, the integration with various machine learning frameworks provides flexibility and scalability, enabling seamless deployment across different platforms. Customization options further enhance the adaptability of custom model deployment bedrock to meet specific business requirements, making it a versatile solution for model deployment.\n",
      "\n",
      "Leading companies in the AI and machine learning space are at the forefront of providing custom model deployment bedrock solutions. Through case studies showcasing successful deployments, these key players demonstrate the effectiveness and efficiency of custom model deployment bedrock in real-world scenarios. By partnering with industry leaders, businesses can access cutting-edge technology and expertise to optimize their model deployment processes and drive innovation in their organizations.\n",
      "\n",
      "Recent advancements in deployment techniques have further improved the capabilities of custom model deployment bedrock. Success stories from industries utilizing this technology highlight the transformative impact it has on businesses, driving growth and competitive advantage. By staying informed on the latest news and updates in custom model deployment bedrock, decision-makers can make informed decisions and implement best practices to maximize the benefits of this innovative solution.\n",
      "\n",
      "The benefits of utilizing custom model deployment bedrock are manifold. From enhanced performance and scalability to improved customization and flexibility, this technology offers a comprehensive solution for businesses looking to optimize their model deployment processes. By leveraging custom model deployment bedrock, organizations can achieve greater efficiency, accuracy, and innovation in their machine learning models, driving success and growth in an increasingly competitive market.\n",
      "\n",
      "Case studies and success stories provide valuable insights into the practical applications of custom model deployment bedrock. By showcasing real-world examples of successful deployments, businesses can learn from industry leaders and implement best practices in their own organizations. These case studies serve as inspiration for decision-makers looking to enhance their model deployment processes and achieve tangible results through the adoption of custom model deployment bedrock.\n",
      "\n",
      "Implementing custom model deployment bedrock effectively requires a strategic approach and a deep understanding of the technology. By following best practices and leveraging expert insights on model deployment, businesses can successfully integrate custom model deployment bedrock into their existing workflows. Through careful planning, testing, and optimization, organizations can maximize the benefits of this technology and drive innovation in their machine learning models.\n",
      "\n",
      "For those interested in learning more about custom model deployment bedrock, resources such as industry reports, whitepapers, case studies, and expert interviews offer valuable information and insights. By exploring these resources, readers can gain a deeper understanding of the technology, its applications, and best practices for implementation. By staying informed and continually learning about custom model deployment bedrock, individuals and organizations can stay ahead in the fast-evolving field of AI and machine learning.\n",
      "\n",
      "In conclusion, custom model deployment bedrock is a game-changing technology that offers immense potential for businesses looking to enhance their machine learning models and optimize their deployment processes. By staying informed on the latest trends, key players, and noteworthy news in the industry, decision-makers can make informed decisions and drive innovation in their organizations. With the right resources and a strategic approach to implementation, custom model deployment bedrock can revolutionize the way businesses approach model deployment and achieve success in the competitive landscape of AI and machine learning.\n",
      "\n",
      "\u001b[00m\n"
     ]
    }
   ],
   "source": [
    "topic = \"Custom Model Deplyment Bedrock\"\n",
    "result = crew.kickoff(inputs={\"topic\": topic})"
   ]
  },
  {
   "cell_type": "code",
   "execution_count": 15,
   "metadata": {
    "height": 30
   },
   "outputs": [
    {
     "data": {
      "text/markdown": [
       "# Unveiling Custom Model Deployment Bedrock: A Comprehensive Guide\n",
       "\n",
       "In the rapidly evolving landscape of artificial intelligence and machine learning, custom model deployment bedrock has emerged as a crucial tool for data scientists, machine learning engineers, and AI enthusiasts. This innovative technology offers real-time monitoring and optimization capabilities, integration with various machine learning frameworks, and customization options tailored to specific business needs. By leveraging custom model deployment bedrock, businesses can enhance their machine learning models and streamline their deployment processes effectively.\n",
       "\n",
       "One of the latest trends in custom model deployment bedrock is the emphasis on real-time monitoring and optimization. This feature allows users to track the performance of their models continuously and make necessary adjustments in real-time. Additionally, the integration with various machine learning frameworks provides flexibility and scalability, enabling seamless deployment across different platforms. Customization options further enhance the adaptability of custom model deployment bedrock to meet specific business requirements, making it a versatile solution for model deployment.\n",
       "\n",
       "Leading companies in the AI and machine learning space are at the forefront of providing custom model deployment bedrock solutions. Through case studies showcasing successful deployments, these key players demonstrate the effectiveness and efficiency of custom model deployment bedrock in real-world scenarios. By partnering with industry leaders, businesses can access cutting-edge technology and expertise to optimize their model deployment processes and drive innovation in their organizations.\n",
       "\n",
       "Recent advancements in deployment techniques have further improved the capabilities of custom model deployment bedrock. Success stories from industries utilizing this technology highlight the transformative impact it has on businesses, driving growth and competitive advantage. By staying informed on the latest news and updates in custom model deployment bedrock, decision-makers can make informed decisions and implement best practices to maximize the benefits of this innovative solution.\n",
       "\n",
       "The benefits of utilizing custom model deployment bedrock are manifold. From enhanced performance and scalability to improved customization and flexibility, this technology offers a comprehensive solution for businesses looking to optimize their model deployment processes. By leveraging custom model deployment bedrock, organizations can achieve greater efficiency, accuracy, and innovation in their machine learning models, driving success and growth in an increasingly competitive market.\n",
       "\n",
       "Case studies and success stories provide valuable insights into the practical applications of custom model deployment bedrock. By showcasing real-world examples of successful deployments, businesses can learn from industry leaders and implement best practices in their own organizations. These case studies serve as inspiration for decision-makers looking to enhance their model deployment processes and achieve tangible results through the adoption of custom model deployment bedrock.\n",
       "\n",
       "Implementing custom model deployment bedrock effectively requires a strategic approach and a deep understanding of the technology. By following best practices and leveraging expert insights on model deployment, businesses can successfully integrate custom model deployment bedrock into their existing workflows. Through careful planning, testing, and optimization, organizations can maximize the benefits of this technology and drive innovation in their machine learning models.\n",
       "\n",
       "For those interested in learning more about custom model deployment bedrock, resources such as industry reports, whitepapers, case studies, and expert interviews offer valuable information and insights. By exploring these resources, readers can gain a deeper understanding of the technology, its applications, and best practices for implementation. By staying informed and continually learning about custom model deployment bedrock, individuals and organizations can stay ahead in the fast-evolving field of AI and machine learning.\n",
       "\n",
       "In conclusion, custom model deployment bedrock is a game-changing technology that offers immense potential for businesses looking to enhance their machine learning models and optimize their deployment processes. By staying informed on the latest trends, key players, and noteworthy news in the industry, decision-makers can make informed decisions and drive innovation in their organizations. With the right resources and a strategic approach to implementation, custom model deployment bedrock can revolutionize the way businesses approach model deployment and achieve success in the competitive landscape of AI and machine learning."
      ],
      "text/plain": [
       "<IPython.core.display.Markdown object>"
      ]
     },
     "execution_count": 15,
     "metadata": {},
     "output_type": "execute_result"
    }
   ],
   "source": [
    "Markdown(result)"
   ]
  },
  {
   "cell_type": "markdown",
   "metadata": {},
   "source": [
    "<a name='1'></a>\n",
    " ## Other Popular Models as LLM for your Agents"
   ]
  },
  {
   "cell_type": "markdown",
   "metadata": {},
   "source": [
    "#### Hugging Face (HuggingFaceHub endpoint)\n",
    "\n",
    "```Python\n",
    "from langchain_community.llms import HuggingFaceHub\n",
    "\n",
    "llm = HuggingFaceHub(\n",
    "    repo_id=\"HuggingFaceH4/zephyr-7b-beta\",\n",
    "    huggingfacehub_api_token=\"<HF_TOKEN_HERE>\",\n",
    "    task=\"text-generation\",\n",
    ")\n",
    "\n",
    "### you will pass \"llm\" to your agent function\n",
    "```"
   ]
  },
  {
   "cell_type": "markdown",
   "metadata": {},
   "source": [
    "#### Mistral API\n",
    "\n",
    "```Python\n",
    "OPENAI_API_KEY=your-mistral-api-key\n",
    "OPENAI_API_BASE=https://api.mistral.ai/v1\n",
    "OPENAI_MODEL_NAME=\"mistral-small\"\n",
    "```"
   ]
  },
  {
   "cell_type": "markdown",
   "metadata": {},
   "source": [
    "#### Cohere\n",
    "\n",
    "```Python\n",
    "from langchain_community.chat_models import ChatCohere\n",
    "# Initialize language model\n",
    "os.environ[\"COHERE_API_KEY\"] = \"your-cohere-api-key\"\n",
    "llm = ChatCohere()\n",
    "\n",
    "### you will pass \"llm\" to your agent function\n",
    "```"
   ]
  },
  {
   "cell_type": "markdown",
   "metadata": {},
   "source": [
    "### For using Llama locally with Ollama and more, checkout the crewAI documentation on [Connecting to any LLM](https://docs.crewai.com/how-to/LLM-Connections/)."
   ]
  },
  {
   "cell_type": "code",
   "execution_count": null,
   "metadata": {
    "height": 30
   },
   "outputs": [],
   "source": []
  },
  {
   "cell_type": "code",
   "execution_count": null,
   "metadata": {
    "height": 30
   },
   "outputs": [],
   "source": []
  },
  {
   "cell_type": "code",
   "execution_count": null,
   "metadata": {
    "height": 30
   },
   "outputs": [],
   "source": []
  }
 ],
 "metadata": {
  "colab": {
   "gpuType": "T4",
   "provenance": []
  },
  "kernelspec": {
   "display_name": "Python 3 (ipykernel)",
   "language": "python",
   "name": "python3"
  },
  "language_info": {
   "codemirror_mode": {
    "name": "ipython",
    "version": 3
   },
   "file_extension": ".py",
   "mimetype": "text/x-python",
   "name": "python",
   "nbconvert_exporter": "python",
   "pygments_lexer": "ipython3",
   "version": "3.11.9"
  }
 },
 "nbformat": 4,
 "nbformat_minor": 4
}
